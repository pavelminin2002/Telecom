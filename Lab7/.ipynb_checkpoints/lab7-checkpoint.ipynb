{
 "cells": [
  {
   "cell_type": "markdown",
   "id": "c058b83a-d0aa-4593-8175-0b15459007a9",
   "metadata": {},
   "source": [
    "## Упражнение 7.3\n",
    "В этой главе показано, как выразить ДПФ и обратное ДПФ произведениями матриц. Время выполнения этих операций пропорционально N^2, где N - длина массива сигнала. Во многих случаях этого достаточно, но есть алгоритм и побыстрее - быстрое преобразование Фурье (БПФ); время его работы пропорционально Nlog N. Ключ к БПФ - это лемма Дэниелсона-Ланцоша (Danielson- Lanczos). Эта лемма предлагает рекурсивный алгоритм для ДПФ: <br>\n",
    "1. Дан массив сигнала у. Разделим его на четные элементы е и нечетные элементы о.\n",
    "2. Вычислим DFT е и о, делая рекурсивные вызовы.\n",
    "3. Вычислим DFT(y) для каждого значения n, используя лемму Дэниелсона-Ланцоша. В простейшем случае эту рекурсию надо продолжать, пока длина у не дойдет до 1. Тогда DFT(y) = у. А если длина у достаточно мала, можно вычислить его ДПФ перемножением матриц, используя заранее вычисленные матрицы.\n",
    "\n",
    "Для начала импортируем необходимые библиотеки:"
   ]
  },
  {
   "cell_type": "code",
   "execution_count": 1,
   "id": "9ef2fdc0-9c68-4bc1-b84d-6443d1cfeb32",
   "metadata": {},
   "outputs": [
    {
     "name": "stdout",
     "output_type": "stream",
     "text": [
      "\n",
      "Saved under thinkdsp.py\n"
     ]
    }
   ],
   "source": [
    "import os\n",
    "\n",
    "if not os.path.exists('thinkdsp.py'):\n",
    "    !python -m wget https://github.com/AllenDowney/ThinkDSP/raw/master/code/thinkdsp.py\n",
    "import numpy as np\n",
    "import matplotlib.pyplot as plt\n",
    "from thinkdsp import decorate\n",
    "import numpy as np\n",
    "PI2 = 2 * np.pi"
   ]
  },
  {
   "cell_type": "markdown",
   "id": "59ecb2a8-d9aa-4ba9-9a5d-7c863b077eca",
   "metadata": {},
   "source": [
    "Теперь вычислим БПФ сигнала:"
   ]
  },
  {
   "cell_type": "code",
   "execution_count": 2,
   "id": "b5b10653-425f-436d-b74d-484bcd48f224",
   "metadata": {},
   "outputs": [
    {
     "name": "stdout",
     "output_type": "stream",
     "text": [
      "[ 0.2+0.j  -1.2-0.2j  0.2+0.j  -1.2+0.2j]\n"
     ]
    }
   ],
   "source": [
    "ys = [-0.5, 0.1, 0.7, -0.1]\n",
    "hs = np.fft.fft(ys)\n",
    "print(hs)"
   ]
  },
  {
   "cell_type": "markdown",
   "id": "819fbfff-5652-4718-9f66-0304a8289409",
   "metadata": {},
   "source": [
    "Создадим функцию для вычисления DFT:"
   ]
  },
  {
   "cell_type": "code",
   "execution_count": 3,
   "id": "2e678c58-a52c-43a8-95fa-880b26cead23",
   "metadata": {},
   "outputs": [],
   "source": [
    "def dft(ys):\n",
    "    N = len(ys)\n",
    "    ts = np.arange(N) / N\n",
    "    freqs = np.arange(N)\n",
    "    args = np.outer(ts, freqs)\n",
    "    M = np.exp(1j * PI2 * args)\n",
    "    amps = M.conj().transpose().dot(ys)\n",
    "    return amps"
   ]
  },
  {
   "cell_type": "markdown",
   "id": "c2eac182-8ebb-4703-88b2-a95e2db44ba2",
   "metadata": {},
   "source": [
    "Теперь создадим функцию, которая делит массив пополам и вычисляет БПФ его половин"
   ]
  },
  {
   "cell_type": "code",
   "execution_count": 4,
   "id": "3c215175-70a7-40f2-9b3f-3bc30750f61f",
   "metadata": {},
   "outputs": [],
   "source": [
    "def fft_norec(ys):\n",
    "    N = len(ys)\n",
    "    He = np.fft.fft(ys[::2])\n",
    "    Ho = np.fft.fft(ys[1::2])\n",
    "    \n",
    "    ns = np.arange(N)\n",
    "    W = np.exp(-1j * PI2 * ns / N)\n",
    "    \n",
    "    return np.tile(He, 2) + W * np.tile(Ho, 2)"
   ]
  },
  {
   "cell_type": "markdown",
   "id": "27f8f884-e02d-413c-bb9b-a9b7b564baa9",
   "metadata": {},
   "source": [
    "Видим, что результаты совпадают с ожидаемыми"
   ]
  },
  {
   "cell_type": "code",
   "execution_count": 5,
   "id": "831c6734-dd2a-4a6f-b3b8-dd4ffe573917",
   "metadata": {},
   "outputs": [
    {
     "data": {
      "text/plain": [
       "0.0"
      ]
     },
     "execution_count": 5,
     "metadata": {},
     "output_type": "execute_result"
    }
   ],
   "source": [
    "hs3 = fft_norec(ys)\n",
    "np.sum(np.abs(hs - hs3))"
   ]
  },
  {
   "cell_type": "markdown",
   "id": "396a2ae9-ac5c-4327-857d-a6bf4d7a2acc",
   "metadata": {},
   "source": [
    "Теперь заменим функцию np.fft.fft на рекурсивные вызовы и протестируем новую функцию вычисления БПФ"
   ]
  },
  {
   "cell_type": "code",
   "execution_count": 6,
   "id": "ae006309-58ea-4f2c-aab5-7bf212dd6785",
   "metadata": {},
   "outputs": [],
   "source": [
    "def fft(ys):\n",
    "    N = len(ys)\n",
    "    if N == 1:\n",
    "        return ys\n",
    "    \n",
    "    He = fft(ys[::2])\n",
    "    Ho = fft(ys[1::2])\n",
    "    \n",
    "    ns = np.arange(N)\n",
    "    W = np.exp(-1j * PI2 * ns / N)\n",
    "    \n",
    "    return np.tile(He, 2) + W * np.tile(Ho, 2)"
   ]
  },
  {
   "cell_type": "markdown",
   "id": "40def6e4-a733-49a2-876c-49642213db5e",
   "metadata": {},
   "source": [
    "Видим, что результаты совпали с ожидаемыми"
   ]
  },
  {
   "cell_type": "code",
   "execution_count": 7,
   "id": "0b88301f-f4ce-4e41-aff7-14ab2d27da6d",
   "metadata": {},
   "outputs": [
    {
     "data": {
      "text/plain": [
       "1.6653345369377348e-16"
      ]
     },
     "execution_count": 7,
     "metadata": {},
     "output_type": "execute_result"
    }
   ],
   "source": [
    "hs4 = fft(ys)\n",
    "np.sum(np.abs(hs - hs4))"
   ]
  },
  {
   "cell_type": "code",
   "execution_count": null,
   "id": "3e961b30-a524-463d-8dda-443478be9c05",
   "metadata": {},
   "outputs": [],
   "source": []
  }
 ],
 "metadata": {
  "kernelspec": {
   "display_name": "Python 3 (ipykernel)",
   "language": "python",
   "name": "python3"
  },
  "language_info": {
   "codemirror_mode": {
    "name": "ipython",
    "version": 3
   },
   "file_extension": ".py",
   "mimetype": "text/x-python",
   "name": "python",
   "nbconvert_exporter": "python",
   "pygments_lexer": "ipython3",
   "version": "3.11.7"
  }
 },
 "nbformat": 4,
 "nbformat_minor": 5
}
